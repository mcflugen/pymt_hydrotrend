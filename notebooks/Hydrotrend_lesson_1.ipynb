{
 "cells": [
  {
   "cell_type": "markdown",
   "metadata": {},
   "source": [
    "# River Sediment Supply Modeling with HydroTrend\n",
    "\n",
    "If you have never used the CSDMS Python Modeling Toolkit (PyMT), learn how to use it here.\n",
    "\n",
    "We are using a theoretical river basin of ~1990 km2, with 1200m of relief and a river length of\n",
    "~100 km. All parameters that are shown by default once the HydroTrend Model is loaded are based\n",
    "on a present-day, temperate climate. Whereas these runs are not meant to be specific, we are\n",
    "using parameters that are realistic for the [Waiapaoa River][map_of_waiapaoa] in New Zealand. The Waiapaoa River\n",
    "is located on North Island and receives high rain and has erodible soils, so the river sediment\n",
    "loads are exceptionally high. It has been called the *\"dirtiest small river in the world\"*.\n",
    "\n",
    "To learn more about HydroTrend and its approach to sediment supply modeling, you can download\n",
    "this [presentation][hydrotrend_presentation].\n",
    "\n",
    "[map_of_waiapaoa]: https://www.google.com/maps/place/Waipaoa+River/@-38.5099042,177.7668002,71814m/data=!3m1!1e3!4m5!3m4!1s0x6d65def908624859:0x2a00ef6165e1dfa0!8m2!3d-38.5392405!4d177.8843782\n",
    "[hydrotrend_presentation]: https://csdms.colorado.edu/wiki/File:SedimentSupplyModeling02_2013.ppt"
   ]
  },
  {
   "cell_type": "code",
   "execution_count": 1,
   "metadata": {},
   "outputs": [
    {
     "name": "stderr",
     "output_type": "stream",
     "text": [
      "\u001b[32m✓ Sedflux3D\u001b[39;49;00m\n",
      "\u001b[32m✓ Child\u001b[39;49;00m\n",
      "\u001b[32m✓ Hydrotrend\u001b[39;49;00m\n",
      "\u001b[32m✓ OverlandFlow\u001b[39;49;00m\n",
      "\u001b[32m✓ BmiFrostNumberMethod\u001b[39;49;00m\n",
      "\u001b[32m✓ BmiKuMethod\u001b[39;49;00m\n"
     ]
    }
   ],
   "source": [
    "import matplotlib.pyplot as plt\n",
    "import numpy as np\n",
    "\n",
    "import pymt"
   ]
  },
  {
   "cell_type": "code",
   "execution_count": 2,
   "metadata": {},
   "outputs": [],
   "source": [
    "hydrotrend = pymt.plugins.Hydrotrend()"
   ]
  },
  {
   "cell_type": "markdown",
   "metadata": {},
   "source": [
    "HydroTrend will now be active in the WMT. The HydroTrend Parameter list is used to set the parameters for any simulation. You can set the parameters by going through the different tabs in the parameter list. Once your input is set up, you save the information. Then, you can run it by hitting the arrow run button. This way you generate a job script that can be submitted to Beach-the CSDMS High Performance Computing System. Provide your Beach account information (i.e. user name and password) to get the run started. The status page allows you to keep track of a simulation. From the status page you can eventually download your output files. \n"
   ]
  },
  {
   "cell_type": "markdown",
   "metadata": {},
   "source": [
    "## Exercise 1: Explore the base-case river simulation\n",
    "\n",
    "The default \"base-case\" simulation for 50 years at daily time-step. This means you run Hydrotrend for 18,250 days total. "
   ]
  },
  {
   "cell_type": "code",
   "execution_count": 3,
   "metadata": {},
   "outputs": [],
   "source": [
    "config_file, config_folder = hydrotrend.setup()"
   ]
  },
  {
   "cell_type": "code",
   "execution_count": 4,
   "metadata": {},
   "outputs": [],
   "source": [
    "hydrotrend.initialize(config_file, config_folder)"
   ]
  },
  {
   "cell_type": "code",
   "execution_count": 5,
   "metadata": {},
   "outputs": [
    {
     "data": {
      "text/plain": [
       "('atmosphere_bottom_air__domain_mean_of_temperature',\n",
       " 'channel_exit_water_sediment~suspended__mass_flow_rate',\n",
       " 'channel_exit_water_flow__speed',\n",
       " 'channel_entrance_water_sediment~bedload__mass_flow_rate',\n",
       " 'channel_exit_water__volume_flow_rate',\n",
       " 'channel_exit_water_x-section__width',\n",
       " 'channel_exit_water_x-section__depth',\n",
       " 'channel_entrance_water__volume_flow_rate',\n",
       " 'atmosphere_water__domain_mean_of_precipitation_leq-volume_flux',\n",
       " 'channel_exit_water_sediment~bedload__mass_flow_rate',\n",
       " 'channel_exit_water_sediment~suspended__mass_concentration')"
      ]
     },
     "execution_count": 5,
     "metadata": {},
     "output_type": "execute_result"
    }
   ],
   "source": [
    "hydrotrend.output_var_names"
   ]
  },
  {
   "cell_type": "code",
   "execution_count": 6,
   "metadata": {},
   "outputs": [
    {
     "data": {
      "text/plain": [
       "(0.0, 0.0, 36500.0, 1.0, 'd')"
      ]
     },
     "execution_count": 6,
     "metadata": {},
     "output_type": "execute_result"
    }
   ],
   "source": [
    "hydrotrend.get_start_time(), hydrotrend.get_current_time(), hydrotrend.get_end_time(), hydrotrend.get_time_step(), hydrotrend.get_time_units()"
   ]
  },
  {
   "cell_type": "code",
   "execution_count": 7,
   "metadata": {},
   "outputs": [],
   "source": [
    "n_days = int(hydrotrend.get_end_time())\n",
    "q = np.empty(n_days)\n",
    "qs = np.empty(n_days)\n",
    "cs = np.empty(n_days)\n",
    "qb = np.empty(n_days)\n",
    "for i in range(n_days):\n",
    "    hydrotrend.update()\n",
    "    q[i] = hydrotrend.get_value(\"channel_exit_water__volume_flow_rate\")\n",
    "    qs[i] = hydrotrend.get_value(\"channel_exit_water_sediment~suspended__mass_flow_rate\")\n",
    "    cs[i] = hydrotrend.get_value(\"channel_exit_water_sediment~suspended__mass_concentration\")\n",
    "    qb[i] = hydrotrend.get_value(\"channel_exit_water_sediment~bedload__mass_flow_rate\")"
   ]
  },
  {
   "cell_type": "code",
   "execution_count": 8,
   "metadata": {},
   "outputs": [
    {
     "data": {
      "text/plain": [
       "[<matplotlib.lines.Line2D at 0x1c24bfd1d0>]"
      ]
     },
     "execution_count": 8,
     "metadata": {},
     "output_type": "execute_result"
    },
    {
     "data": {
      "image/png": "[encoded data removed]",
      "text/plain": [
       "<Figure size 432x288 with 1 Axes>"
      ]
     },
     "metadata": {
      "needs_background": "light"
     },
     "output_type": "display_data"
    }
   ],
   "source": [
    "plt.plot(qs)"
   ]
  },
  {
   "cell_type": "markdown",
   "metadata": {},
   "source": [
    "## Q1a: Calculate mean water discharge Q, mean suspended load Qs, mean sediment concentration Cs, and mean bedload Qb.\n",
    "\n",
    "*Note all values are reported as daily averages. What are the units?*\n",
    "\n",
    "*A1a*:"
   ]
  },
  {
   "cell_type": "code",
   "execution_count": 9,
   "metadata": {},
   "outputs": [
    {
     "data": {
      "text/plain": [
       "((78.860528085872986, 'm^3 / s'),\n",
       " (0.17000387392377275, 'kg / s'),\n",
       " (32.013717040644423, 'kg / m^3'),\n",
       " (2.0013798085652184, 'kg / s'))"
      ]
     },
     "execution_count": 9,
     "metadata": {},
     "output_type": "execute_result"
    }
   ],
   "source": [
    "(\n",
    "    (q.mean(), hydrotrend.get_var_units(\"channel_exit_water__volume_flow_rate\")),\n",
    "    (cs.mean(), hydrotrend.get_var_units(\"channel_exit_water_sediment~suspended__mass_flow_rate\")),\n",
    "    (qs.mean(), hydrotrend.get_var_units(\"channel_exit_water_sediment~suspended__mass_concentration\")),\n",
    "    (qb.mean(), hydrotrend.get_var_units(\"channel_exit_water_sediment~bedload__mass_flow_rate\"))\n",
    ")"
   ]
  },
  {
   "cell_type": "code",
   "execution_count": 10,
   "metadata": {},
   "outputs": [
    {
     "data": {
      "text/plain": [
       "'m^3 / s'"
      ]
     },
     "execution_count": 10,
     "metadata": {},
     "output_type": "execute_result"
    }
   ],
   "source": [
    "hydrotrend.get_var_units(\"channel_exit_water__volume_flow_rate\")"
   ]
  },
  {
   "cell_type": "markdown",
   "metadata": {},
   "source": [
    "## Q1b: Identify the highest flood event for this simulation. Is this the 50-year flood? Plot the year of Q-data which includes the flood.\n",
    "\n",
    "*A1b*:"
   ]
  },
  {
   "cell_type": "code",
   "execution_count": 11,
   "metadata": {},
   "outputs": [
    {
     "ename": "NameError",
     "evalue": "name 'flood_year' is not defined",
     "output_type": "error",
     "traceback": [
      "\u001b[0;31m---------------------------------------------------------------------------\u001b[0m",
      "\u001b[0;31mNameError\u001b[0m                                 Traceback (most recent call last)",
      "\u001b[0;32m<ipython-input-11-631aecbcd4a0>\u001b[0m in \u001b[0;36m<module>\u001b[0;34m\u001b[0m\n\u001b[1;32m      1\u001b[0m \u001b[0mflood_day\u001b[0m \u001b[0;34m=\u001b[0m \u001b[0mq\u001b[0m\u001b[0;34m.\u001b[0m\u001b[0margmax\u001b[0m\u001b[0;34m(\u001b[0m\u001b[0;34m)\u001b[0m\u001b[0;34m\u001b[0m\u001b[0m\n\u001b[0;32m----> 2\u001b[0;31m \u001b[0mflood_year\u001b[0m \u001b[0;34m//\u001b[0m \u001b[0;36m365\u001b[0m\u001b[0;34m\u001b[0m\u001b[0m\n\u001b[0m\u001b[1;32m      3\u001b[0m \u001b[0mplt\u001b[0m\u001b[0;34m.\u001b[0m\u001b[0mplot\u001b[0m\u001b[0;34m(\u001b[0m\u001b[0mq\u001b[0m\u001b[0;34m[\u001b[0m\u001b[0mflood_year\u001b[0m \u001b[0;34m*\u001b[0m \u001b[0;36m365\u001b[0m\u001b[0;34m:\u001b[0m \u001b[0;34m(\u001b[0m\u001b[0mflood_year\u001b[0m \u001b[0;34m+\u001b[0m \u001b[0;36m1\u001b[0m\u001b[0;34m)\u001b[0m \u001b[0;34m*\u001b[0m \u001b[0;36m365\u001b[0m\u001b[0;34m]\u001b[0m\u001b[0;34m)\u001b[0m\u001b[0;34m\u001b[0m\u001b[0m\n",
      "\u001b[0;31mNameError\u001b[0m: name 'flood_year' is not defined"
     ]
    }
   ],
   "source": [
    "flood_day = q.argmax()\n",
    "flood_year // 365\n",
    "plt.plot(q[flood_year * 365: (flood_year + 1) * 365])"
   ]
  },
  {
   "cell_type": "code",
   "execution_count": null,
   "metadata": {},
   "outputs": [],
   "source": [
    "q.max()"
   ]
  },
  {
   "cell_type": "markdown",
   "metadata": {},
   "source": [
    "## Q1c: Calculate the mean annual sediment load for this river system.\n",
    "\n",
    "*A1c*:"
   ]
  },
  {
   "cell_type": "code",
   "execution_count": null,
   "metadata": {},
   "outputs": [],
   "source": [
    "qs_by_year = qs.reshape((-1, 365))\n",
    "qs_annual = qs_by_year.sum(axis=1)\n",
    "plt.plot(qs_annual)"
   ]
  },
  {
   "cell_type": "code",
   "execution_count": null,
   "metadata": {},
   "outputs": [],
   "source": [
    "qs_annual.mean()"
   ]
  },
  {
   "cell_type": "markdown",
   "metadata": {},
   "source": [
    "## Q1d: How does the sediment yield of this river system compare to the present-day Mississippi River?\n",
    "\n",
    "*To compare the mean annual load to other river systems you will need to calculate its sediment yield. \n",
    "Sediment Yield is defined as sediment load normalized for the river drainage area; \n",
    "so it can be reported in T/km2/yr.*\n",
    "\n",
    "*A1d*:"
   ]
  },
  {
   "cell_type": "markdown",
   "metadata": {},
   "source": [
    "# Exercise 2: How does a river system respond to climate change; a few simple scenarios for the coming century.\n",
    "\n",
    "Now we will look at changing climatic conditions in a small river basin. We'll change temperature and precipitation regimes and compare discharge and sediment load characteristics to the original basecase. And we will look at the are potential implications of changes in the peak events.\n",
    "\n",
    "Modify the mean annual temperature T, the mean annual precipitation P, and its the variability of the yearly means through the standard deviation. You can specify trends over time, by modifying the parameter ‘change in mean annual temperature’ or ‘change in mean annual precipitation’. HydroTrend runs at daily timestep, and thus can deal with seasonal variations in temperature and precipitation for a basin. The model ingests monthly mean input values for these two climate parameters and their monthly standard deviations, ideally the values would be derived from analysis of a longterm record of daily climate data. You can adapt seasonal trends by using the monthly values."
   ]
  },
  {
   "cell_type": "markdown",
   "metadata": {},
   "source": [
    "## Q2a: What happens to discharge, suspended load and bedload if the mean annual temperature in this specific river basin increases by 4 °C over 50 years?\n",
    "\n",
    "*A2a*:"
   ]
  },
  {
   "cell_type": "markdown",
   "metadata": {},
   "source": [
    "## Q2b: How much increase of discharge do you see after 50 years? How is the average suspended load affected? How does the bedload change? What happens to the peak event; look at the maximum discharge event of the last 10 years of the simulation?\n",
    "\n",
    "*A2b*:"
   ]
  },
  {
   "cell_type": "markdown",
   "metadata": {},
   "source": [
    "## Q2c: In addition, climate model predictions indicate that perhaps precipitation intensity and variability could increase. How would you model this; discuss all your input settings for precipitation.\n",
    "\n",
    "*A2c*:"
   ]
  },
  {
   "cell_type": "markdown",
   "metadata": {},
   "source": [
    "# Exercise 3: How do humans affect river sediment loads?\n",
    "\n",
    "Here we will look at the effect of human in a river basin. Humans can accelerate erosion\n",
    "processes, or reduce the sediment loads traveling through a river system. Both concepts can\n",
    "be simulated, first run 3 simulations systematically increasing the anthropogenic factor (0.5-8.0 is the range)."
   ]
  },
  {
   "cell_type": "markdown",
   "metadata": {},
   "source": [
    "## Q3a: Describe in your own words the meaning of the human-induced erosion factor, (Eh) (Syvitski & Milliman, 2007). This factor is parametrized as the  “Antropogenic” factor in HydroTrend. See references for the paper.\n",
    "\n",
    "*A3a*:"
   ]
  },
  {
   "cell_type": "markdown",
   "metadata": {},
   "source": [
    "Model a scenario of a drinking water supply reservoir to be planned in the coastal area of the basin. The reservoir would have 800 km 2of contributing drainage area and be 3 km long, 200m wide and 100m deep. Set up a simulation with these parameters."
   ]
  },
  {
   "cell_type": "markdown",
   "metadata": {},
   "source": [
    "## Q3b: How would such a reservoir affect the sediment load at the coast (i.e. downstream of the reservoir)?\n",
    "\n",
    "*A3b*:"
   ]
  },
  {
   "cell_type": "code",
   "execution_count": null,
   "metadata": {},
   "outputs": [],
   "source": []
  }
 ],
 "metadata": {
  "kernelspec": {
   "display_name": "Python 3",
   "language": "python",
   "name": "python3"
  },
  "language_info": {
   "codemirror_mode": {
    "name": "ipython",
    "version": 3
   },
   "file_extension": ".py",
   "mimetype": "text/x-python",
   "name": "python",
   "nbconvert_exporter": "python",
   "pygments_lexer": "ipython3",
   "version": "3.6.6"
  }
 },
 "nbformat": 4,
 "nbformat_minor": 2
}
